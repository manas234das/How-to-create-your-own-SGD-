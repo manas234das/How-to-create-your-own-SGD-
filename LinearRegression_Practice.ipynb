{
 "cells": [
  {
   "cell_type": "markdown",
   "metadata": {},
   "source": [
    "# Assignment 6: Implement Stochastic-Gradient-Descent on Boston house prices dataset"
   ]
  },
  {
   "cell_type": "markdown",
   "metadata": {},
   "source": [
    "This exercise is to apply Stochastic-Gradient-Descent(SGD) algorithm on boston house prices dataset and predict the price of the house which will be bought.\n",
    "\n",
    "### OBJECTIVE : Implement SGD on Linear Regression\n"
   ]
  },
  {
   "cell_type": "code",
   "execution_count": 1,
   "metadata": {},
   "outputs": [],
   "source": [
    "# Importing the required libraries\n",
    "\n",
    "%matplotlib inline\n",
    "import warnings\n",
    "warnings.filterwarnings(action='ignore', category = UserWarning)\n",
    "\n",
    "import pandas as pd\n",
    "import numpy as np\n",
    "import matplotlib.pyplot as plt\n",
    "import seaborn as sns\n",
    "\n",
    "#https://scikit-learn.org/stable/modules/generated/sklearn.datasets.load_boston.html\n",
    "from sklearn.datasets import load_boston\n",
    "\n",
    "#https://scikit-learn.org/stable/modules/generated/sklearn.linear_model.LinearRegression.html\n",
    "from sklearn.linear_model import LinearRegression\n",
    "\n",
    "#https://scikit-learn.org/stable/modules/generated/sklearn.linear_model.SGDRegressor.html\n",
    "from sklearn.linear_model import SGDRegressor\n",
    "\n",
    "from math import sqrt\n",
    "from sklearn.preprocessing import StandardScaler\n",
    "from sklearn.metrics import mean_squared_error\n",
    "from sklearn.model_selection import train_test_split\n",
    "from tqdm import tqdm\n",
    "from prettytable import PrettyTable"
   ]
  },
  {
   "cell_type": "markdown",
   "metadata": {},
   "source": [
    "## 1. Reading the data"
   ]
  },
  {
   "cell_type": "markdown",
   "metadata": {},
   "source": [
    "### `Relevant information about the dataset:`"
   ]
  },
  {
   "cell_type": "code",
   "execution_count": 2,
   "metadata": {
    "scrolled": false
   },
   "outputs": [
    {
     "name": "stdout",
     "output_type": "stream",
     "text": [
      "========================================================================================================================\n",
      "\n",
      " .. _boston_dataset:\n",
      "\n",
      "Boston house prices dataset\n",
      "---------------------------\n",
      "\n",
      "**Data Set Characteristics:**  \n",
      "\n",
      "    :Number of Instances: 506 \n",
      "\n",
      "    :Number of Attributes: 13 numeric/categorical predictive. Median Value (attribute 14) is usually the target.\n",
      "\n",
      "    :Attribute Information (in order):\n",
      "        - CRIM     per capita crime rate by town\n",
      "        - ZN       proportion of residential land zoned for lots over 25,000 sq.ft.\n",
      "        - INDUS    proportion of non-retail business acres per town\n",
      "        - CHAS     Charles River dummy variable (= 1 if tract bounds river; 0 otherwise)\n",
      "        - NOX      nitric oxides concentration (parts per 10 million)\n",
      "        - RM       average number of rooms per dwelling\n",
      "        - AGE      proportion of owner-occupied units built prior to 1940\n",
      "        - DIS      weighted distances to five Boston employment centres\n",
      "        - RAD      index of accessibility to radial highways\n",
      "        - TAX      full-value property-tax rate per $10,000\n",
      "        - PTRATIO  pupil-teacher ratio by town\n",
      "        - B        1000(Bk - 0.63)^2 where Bk is the proportion of blacks by town\n",
      "        - LSTAT    % lower status of the population\n",
      "        - MEDV     Median value of owner-occupied homes in $1000's\n",
      "\n",
      "    :Missing Attribute Values: None\n",
      "\n",
      "    :Creator: Harrison, D. and Rubinfeld, D.L.\n",
      "\n",
      "This is a copy of UCI ML housing dataset.\n",
      "https://archive.ics.uci.edu/ml/machine-learning-databases/housing/\n",
      "\n",
      "\n",
      "This dataset was taken from the StatLib library which is maintained at Carnegie Mellon University.\n",
      "\n",
      "The Boston house-price data of Harrison, D. and Rubinfeld, D.L. 'Hedonic\n",
      "prices and the demand for clean air', J. Environ. Economics & Management,\n",
      "vol.5, 81-102, 1978.   Used in Belsley, Kuh & Welsch, 'Regression diagnostics\n",
      "...', Wiley, 1980.   N.B. Various transformations are used in the table on\n",
      "pages 244-261 of the latter.\n",
      "\n",
      "The Boston house-price data has been used in many machine learning papers that address regression\n",
      "problems.   \n",
      "     \n",
      ".. topic:: References\n",
      "\n",
      "   - Belsley, Kuh & Welsch, 'Regression diagnostics: Identifying Influential Data and Sources of Collinearity', Wiley, 1980. 244-261.\n",
      "   - Quinlan,R. (1993). Combining Instance-Based and Model-Based Learning. In Proceedings on the Tenth International Conference of Machine Learning, 236-243, University of Massachusetts, Amherst. Morgan Kaufmann.\n",
      " \n",
      "\n",
      "========================================================================================================================\n"
     ]
    }
   ],
   "source": [
    "from sklearn.datasets import load_boston\n",
    "boston = load_boston()\n",
    "print('='*120)\n",
    "print('\\n', boston.DESCR, '\\n')\n",
    "print('='*120)"
   ]
  },
  {
   "cell_type": "markdown",
   "metadata": {},
   "source": [
    "## 2. Data analysis"
   ]
  },
  {
   "cell_type": "markdown",
   "metadata": {},
   "source": [
    "### Shape of dataset "
   ]
  },
  {
   "cell_type": "code",
   "execution_count": 3,
   "metadata": {},
   "outputs": [
    {
     "name": "stdout",
     "output_type": "stream",
     "text": [
      "(506, 13)\n"
     ]
    }
   ],
   "source": [
    "print(boston.data.shape)"
   ]
  },
  {
   "cell_type": "markdown",
   "metadata": {},
   "source": [
    "### Feature names of the dataset"
   ]
  },
  {
   "cell_type": "code",
   "execution_count": 4,
   "metadata": {
    "scrolled": true
   },
   "outputs": [
    {
     "name": "stdout",
     "output_type": "stream",
     "text": [
      "['CRIM' 'ZN' 'INDUS' 'CHAS' 'NOX' 'RM' 'AGE' 'DIS' 'RAD' 'TAX' 'PTRATIO'\n",
      " 'B' 'LSTAT']\n"
     ]
    }
   ],
   "source": [
    "print(boston.feature_names)"
   ]
  },
  {
   "cell_type": "markdown",
   "metadata": {},
   "source": [
    "### Shape of target values (actual prices)"
   ]
  },
  {
   "cell_type": "code",
   "execution_count": 5,
   "metadata": {
    "scrolled": false
   },
   "outputs": [
    {
     "name": "stdout",
     "output_type": "stream",
     "text": [
      "(506,)\n"
     ]
    }
   ],
   "source": [
    "print(boston.target.shape)"
   ]
  },
  {
   "cell_type": "markdown",
   "metadata": {},
   "source": [
    "### Creating the target and features data frame"
   ]
  },
  {
   "cell_type": "code",
   "execution_count": 6,
   "metadata": {},
   "outputs": [],
   "source": [
    "boston_data = pd.DataFrame(boston.data)\n",
    "boston_target = pd.DataFrame(boston.target)"
   ]
  },
  {
   "cell_type": "code",
   "execution_count": 7,
   "metadata": {},
   "outputs": [
    {
     "name": "stdout",
     "output_type": "stream",
     "text": [
      "<class 'pandas.core.frame.DataFrame'>\n",
      "RangeIndex: 506 entries, 0 to 505\n",
      "Data columns (total 13 columns):\n",
      "0     506 non-null float64\n",
      "1     506 non-null float64\n",
      "2     506 non-null float64\n",
      "3     506 non-null float64\n",
      "4     506 non-null float64\n",
      "5     506 non-null float64\n",
      "6     506 non-null float64\n",
      "7     506 non-null float64\n",
      "8     506 non-null float64\n",
      "9     506 non-null float64\n",
      "10    506 non-null float64\n",
      "11    506 non-null float64\n",
      "12    506 non-null float64\n",
      "dtypes: float64(13)\n",
      "memory usage: 51.5 KB\n",
      "None\n",
      "\n",
      " ==================================================================================================== \n",
      "\n",
      "<class 'pandas.core.frame.DataFrame'>\n",
      "RangeIndex: 506 entries, 0 to 505\n",
      "Data columns (total 1 columns):\n",
      "0    506 non-null float64\n",
      "dtypes: float64(1)\n",
      "memory usage: 4.0 KB\n",
      "None\n"
     ]
    }
   ],
   "source": [
    "print(boston_data.info())\n",
    "print('\\n', '='*100, '\\n')\n",
    "print(boston_target.info())"
   ]
  },
  {
   "cell_type": "markdown",
   "metadata": {},
   "source": [
    "## NOTE:\n",
    "1. There are total 506 data points and 13 features in the dataset.\n",
    "2. The target contains 506 data points and has the actual prices of the houses."
   ]
  },
  {
   "cell_type": "code",
   "execution_count": 8,
   "metadata": {},
   "outputs": [
    {
     "data": {
      "text/html": [
       "<div>\n",
       "<style scoped>\n",
       "    .dataframe tbody tr th:only-of-type {\n",
       "        vertical-align: middle;\n",
       "    }\n",
       "\n",
       "    .dataframe tbody tr th {\n",
       "        vertical-align: top;\n",
       "    }\n",
       "\n",
       "    .dataframe thead th {\n",
       "        text-align: right;\n",
       "    }\n",
       "</style>\n",
       "<table border=\"1\" class=\"dataframe\">\n",
       "  <thead>\n",
       "    <tr style=\"text-align: right;\">\n",
       "      <th></th>\n",
       "      <th>0</th>\n",
       "      <th>1</th>\n",
       "      <th>2</th>\n",
       "      <th>3</th>\n",
       "      <th>4</th>\n",
       "      <th>5</th>\n",
       "      <th>6</th>\n",
       "      <th>7</th>\n",
       "      <th>8</th>\n",
       "      <th>9</th>\n",
       "      <th>10</th>\n",
       "      <th>11</th>\n",
       "      <th>12</th>\n",
       "    </tr>\n",
       "  </thead>\n",
       "  <tbody>\n",
       "    <tr>\n",
       "      <th>0</th>\n",
       "      <td>0.00632</td>\n",
       "      <td>18.0</td>\n",
       "      <td>2.31</td>\n",
       "      <td>0.0</td>\n",
       "      <td>0.538</td>\n",
       "      <td>6.575</td>\n",
       "      <td>65.2</td>\n",
       "      <td>4.0900</td>\n",
       "      <td>1.0</td>\n",
       "      <td>296.0</td>\n",
       "      <td>15.3</td>\n",
       "      <td>396.90</td>\n",
       "      <td>4.98</td>\n",
       "    </tr>\n",
       "    <tr>\n",
       "      <th>1</th>\n",
       "      <td>0.02731</td>\n",
       "      <td>0.0</td>\n",
       "      <td>7.07</td>\n",
       "      <td>0.0</td>\n",
       "      <td>0.469</td>\n",
       "      <td>6.421</td>\n",
       "      <td>78.9</td>\n",
       "      <td>4.9671</td>\n",
       "      <td>2.0</td>\n",
       "      <td>242.0</td>\n",
       "      <td>17.8</td>\n",
       "      <td>396.90</td>\n",
       "      <td>9.14</td>\n",
       "    </tr>\n",
       "    <tr>\n",
       "      <th>2</th>\n",
       "      <td>0.02729</td>\n",
       "      <td>0.0</td>\n",
       "      <td>7.07</td>\n",
       "      <td>0.0</td>\n",
       "      <td>0.469</td>\n",
       "      <td>7.185</td>\n",
       "      <td>61.1</td>\n",
       "      <td>4.9671</td>\n",
       "      <td>2.0</td>\n",
       "      <td>242.0</td>\n",
       "      <td>17.8</td>\n",
       "      <td>392.83</td>\n",
       "      <td>4.03</td>\n",
       "    </tr>\n",
       "    <tr>\n",
       "      <th>3</th>\n",
       "      <td>0.03237</td>\n",
       "      <td>0.0</td>\n",
       "      <td>2.18</td>\n",
       "      <td>0.0</td>\n",
       "      <td>0.458</td>\n",
       "      <td>6.998</td>\n",
       "      <td>45.8</td>\n",
       "      <td>6.0622</td>\n",
       "      <td>3.0</td>\n",
       "      <td>222.0</td>\n",
       "      <td>18.7</td>\n",
       "      <td>394.63</td>\n",
       "      <td>2.94</td>\n",
       "    </tr>\n",
       "    <tr>\n",
       "      <th>4</th>\n",
       "      <td>0.06905</td>\n",
       "      <td>0.0</td>\n",
       "      <td>2.18</td>\n",
       "      <td>0.0</td>\n",
       "      <td>0.458</td>\n",
       "      <td>7.147</td>\n",
       "      <td>54.2</td>\n",
       "      <td>6.0622</td>\n",
       "      <td>3.0</td>\n",
       "      <td>222.0</td>\n",
       "      <td>18.7</td>\n",
       "      <td>396.90</td>\n",
       "      <td>5.33</td>\n",
       "    </tr>\n",
       "  </tbody>\n",
       "</table>\n",
       "</div>"
      ],
      "text/plain": [
       "        0     1     2    3      4      5     6       7    8      9     10  \\\n",
       "0  0.00632  18.0  2.31  0.0  0.538  6.575  65.2  4.0900  1.0  296.0  15.3   \n",
       "1  0.02731   0.0  7.07  0.0  0.469  6.421  78.9  4.9671  2.0  242.0  17.8   \n",
       "2  0.02729   0.0  7.07  0.0  0.469  7.185  61.1  4.9671  2.0  242.0  17.8   \n",
       "3  0.03237   0.0  2.18  0.0  0.458  6.998  45.8  6.0622  3.0  222.0  18.7   \n",
       "4  0.06905   0.0  2.18  0.0  0.458  7.147  54.2  6.0622  3.0  222.0  18.7   \n",
       "\n",
       "       11    12  \n",
       "0  396.90  4.98  \n",
       "1  396.90  9.14  \n",
       "2  392.83  4.03  \n",
       "3  394.63  2.94  \n",
       "4  396.90  5.33  "
      ]
     },
     "execution_count": 8,
     "metadata": {},
     "output_type": "execute_result"
    }
   ],
   "source": [
    "boston_data.head()"
   ]
  },
  {
   "cell_type": "code",
   "execution_count": 9,
   "metadata": {},
   "outputs": [
    {
     "data": {
      "text/html": [
       "<div>\n",
       "<style scoped>\n",
       "    .dataframe tbody tr th:only-of-type {\n",
       "        vertical-align: middle;\n",
       "    }\n",
       "\n",
       "    .dataframe tbody tr th {\n",
       "        vertical-align: top;\n",
       "    }\n",
       "\n",
       "    .dataframe thead th {\n",
       "        text-align: right;\n",
       "    }\n",
       "</style>\n",
       "<table border=\"1\" class=\"dataframe\">\n",
       "  <thead>\n",
       "    <tr style=\"text-align: right;\">\n",
       "      <th></th>\n",
       "      <th>0</th>\n",
       "    </tr>\n",
       "  </thead>\n",
       "  <tbody>\n",
       "    <tr>\n",
       "      <th>0</th>\n",
       "      <td>24.0</td>\n",
       "    </tr>\n",
       "    <tr>\n",
       "      <th>1</th>\n",
       "      <td>21.6</td>\n",
       "    </tr>\n",
       "    <tr>\n",
       "      <th>2</th>\n",
       "      <td>34.7</td>\n",
       "    </tr>\n",
       "    <tr>\n",
       "      <th>3</th>\n",
       "      <td>33.4</td>\n",
       "    </tr>\n",
       "    <tr>\n",
       "      <th>4</th>\n",
       "      <td>36.2</td>\n",
       "    </tr>\n",
       "  </tbody>\n",
       "</table>\n",
       "</div>"
      ],
      "text/plain": [
       "      0\n",
       "0  24.0\n",
       "1  21.6\n",
       "2  34.7\n",
       "3  33.4\n",
       "4  36.2"
      ]
     },
     "execution_count": 9,
     "metadata": {},
     "output_type": "execute_result"
    }
   ],
   "source": [
    "boston_target.head()"
   ]
  },
  {
   "cell_type": "markdown",
   "metadata": {},
   "source": [
    "### Renaming the columns with features names"
   ]
  },
  {
   "cell_type": "code",
   "execution_count": 10,
   "metadata": {},
   "outputs": [
    {
     "data": {
      "text/html": [
       "<div>\n",
       "<style scoped>\n",
       "    .dataframe tbody tr th:only-of-type {\n",
       "        vertical-align: middle;\n",
       "    }\n",
       "\n",
       "    .dataframe tbody tr th {\n",
       "        vertical-align: top;\n",
       "    }\n",
       "\n",
       "    .dataframe thead th {\n",
       "        text-align: right;\n",
       "    }\n",
       "</style>\n",
       "<table border=\"1\" class=\"dataframe\">\n",
       "  <thead>\n",
       "    <tr style=\"text-align: right;\">\n",
       "      <th></th>\n",
       "      <th>CRIM</th>\n",
       "      <th>ZN</th>\n",
       "      <th>INDUS</th>\n",
       "      <th>CHAS</th>\n",
       "      <th>NOX</th>\n",
       "      <th>RM</th>\n",
       "      <th>AGE</th>\n",
       "      <th>DIS</th>\n",
       "      <th>RAD</th>\n",
       "      <th>TAX</th>\n",
       "      <th>PTRATIO</th>\n",
       "      <th>B</th>\n",
       "      <th>LSTAT</th>\n",
       "    </tr>\n",
       "  </thead>\n",
       "  <tbody>\n",
       "    <tr>\n",
       "      <th>0</th>\n",
       "      <td>0.00632</td>\n",
       "      <td>18.0</td>\n",
       "      <td>2.31</td>\n",
       "      <td>0.0</td>\n",
       "      <td>0.538</td>\n",
       "      <td>6.575</td>\n",
       "      <td>65.2</td>\n",
       "      <td>4.0900</td>\n",
       "      <td>1.0</td>\n",
       "      <td>296.0</td>\n",
       "      <td>15.3</td>\n",
       "      <td>396.90</td>\n",
       "      <td>4.98</td>\n",
       "    </tr>\n",
       "    <tr>\n",
       "      <th>1</th>\n",
       "      <td>0.02731</td>\n",
       "      <td>0.0</td>\n",
       "      <td>7.07</td>\n",
       "      <td>0.0</td>\n",
       "      <td>0.469</td>\n",
       "      <td>6.421</td>\n",
       "      <td>78.9</td>\n",
       "      <td>4.9671</td>\n",
       "      <td>2.0</td>\n",
       "      <td>242.0</td>\n",
       "      <td>17.8</td>\n",
       "      <td>396.90</td>\n",
       "      <td>9.14</td>\n",
       "    </tr>\n",
       "    <tr>\n",
       "      <th>2</th>\n",
       "      <td>0.02729</td>\n",
       "      <td>0.0</td>\n",
       "      <td>7.07</td>\n",
       "      <td>0.0</td>\n",
       "      <td>0.469</td>\n",
       "      <td>7.185</td>\n",
       "      <td>61.1</td>\n",
       "      <td>4.9671</td>\n",
       "      <td>2.0</td>\n",
       "      <td>242.0</td>\n",
       "      <td>17.8</td>\n",
       "      <td>392.83</td>\n",
       "      <td>4.03</td>\n",
       "    </tr>\n",
       "    <tr>\n",
       "      <th>3</th>\n",
       "      <td>0.03237</td>\n",
       "      <td>0.0</td>\n",
       "      <td>2.18</td>\n",
       "      <td>0.0</td>\n",
       "      <td>0.458</td>\n",
       "      <td>6.998</td>\n",
       "      <td>45.8</td>\n",
       "      <td>6.0622</td>\n",
       "      <td>3.0</td>\n",
       "      <td>222.0</td>\n",
       "      <td>18.7</td>\n",
       "      <td>394.63</td>\n",
       "      <td>2.94</td>\n",
       "    </tr>\n",
       "    <tr>\n",
       "      <th>4</th>\n",
       "      <td>0.06905</td>\n",
       "      <td>0.0</td>\n",
       "      <td>2.18</td>\n",
       "      <td>0.0</td>\n",
       "      <td>0.458</td>\n",
       "      <td>7.147</td>\n",
       "      <td>54.2</td>\n",
       "      <td>6.0622</td>\n",
       "      <td>3.0</td>\n",
       "      <td>222.0</td>\n",
       "      <td>18.7</td>\n",
       "      <td>396.90</td>\n",
       "      <td>5.33</td>\n",
       "    </tr>\n",
       "  </tbody>\n",
       "</table>\n",
       "</div>"
      ],
      "text/plain": [
       "      CRIM    ZN  INDUS  CHAS    NOX     RM   AGE     DIS  RAD    TAX  \\\n",
       "0  0.00632  18.0   2.31   0.0  0.538  6.575  65.2  4.0900  1.0  296.0   \n",
       "1  0.02731   0.0   7.07   0.0  0.469  6.421  78.9  4.9671  2.0  242.0   \n",
       "2  0.02729   0.0   7.07   0.0  0.469  7.185  61.1  4.9671  2.0  242.0   \n",
       "3  0.03237   0.0   2.18   0.0  0.458  6.998  45.8  6.0622  3.0  222.0   \n",
       "4  0.06905   0.0   2.18   0.0  0.458  7.147  54.2  6.0622  3.0  222.0   \n",
       "\n",
       "   PTRATIO       B  LSTAT  \n",
       "0     15.3  396.90   4.98  \n",
       "1     17.8  396.90   9.14  \n",
       "2     17.8  392.83   4.03  \n",
       "3     18.7  394.63   2.94  \n",
       "4     18.7  396.90   5.33  "
      ]
     },
     "execution_count": 10,
     "metadata": {},
     "output_type": "execute_result"
    }
   ],
   "source": [
    "boston_data.columns = boston.feature_names\n",
    "boston_data.head()"
   ]
  },
  {
   "cell_type": "markdown",
   "metadata": {},
   "source": [
    "### Now adding the price column in the dataset which is available in the boston_target data frame"
   ]
  },
  {
   "cell_type": "code",
   "execution_count": 11,
   "metadata": {},
   "outputs": [
    {
     "data": {
      "text/html": [
       "<div>\n",
       "<style scoped>\n",
       "    .dataframe tbody tr th:only-of-type {\n",
       "        vertical-align: middle;\n",
       "    }\n",
       "\n",
       "    .dataframe tbody tr th {\n",
       "        vertical-align: top;\n",
       "    }\n",
       "\n",
       "    .dataframe thead th {\n",
       "        text-align: right;\n",
       "    }\n",
       "</style>\n",
       "<table border=\"1\" class=\"dataframe\">\n",
       "  <thead>\n",
       "    <tr style=\"text-align: right;\">\n",
       "      <th></th>\n",
       "      <th>CRIM</th>\n",
       "      <th>ZN</th>\n",
       "      <th>INDUS</th>\n",
       "      <th>CHAS</th>\n",
       "      <th>NOX</th>\n",
       "      <th>RM</th>\n",
       "      <th>AGE</th>\n",
       "      <th>DIS</th>\n",
       "      <th>RAD</th>\n",
       "      <th>TAX</th>\n",
       "      <th>PTRATIO</th>\n",
       "      <th>B</th>\n",
       "      <th>LSTAT</th>\n",
       "      <th>PRICE</th>\n",
       "    </tr>\n",
       "  </thead>\n",
       "  <tbody>\n",
       "    <tr>\n",
       "      <th>0</th>\n",
       "      <td>0.00632</td>\n",
       "      <td>18.0</td>\n",
       "      <td>2.31</td>\n",
       "      <td>0.0</td>\n",
       "      <td>0.538</td>\n",
       "      <td>6.575</td>\n",
       "      <td>65.2</td>\n",
       "      <td>4.0900</td>\n",
       "      <td>1.0</td>\n",
       "      <td>296.0</td>\n",
       "      <td>15.3</td>\n",
       "      <td>396.90</td>\n",
       "      <td>4.98</td>\n",
       "      <td>24.0</td>\n",
       "    </tr>\n",
       "    <tr>\n",
       "      <th>1</th>\n",
       "      <td>0.02731</td>\n",
       "      <td>0.0</td>\n",
       "      <td>7.07</td>\n",
       "      <td>0.0</td>\n",
       "      <td>0.469</td>\n",
       "      <td>6.421</td>\n",
       "      <td>78.9</td>\n",
       "      <td>4.9671</td>\n",
       "      <td>2.0</td>\n",
       "      <td>242.0</td>\n",
       "      <td>17.8</td>\n",
       "      <td>396.90</td>\n",
       "      <td>9.14</td>\n",
       "      <td>21.6</td>\n",
       "    </tr>\n",
       "    <tr>\n",
       "      <th>2</th>\n",
       "      <td>0.02729</td>\n",
       "      <td>0.0</td>\n",
       "      <td>7.07</td>\n",
       "      <td>0.0</td>\n",
       "      <td>0.469</td>\n",
       "      <td>7.185</td>\n",
       "      <td>61.1</td>\n",
       "      <td>4.9671</td>\n",
       "      <td>2.0</td>\n",
       "      <td>242.0</td>\n",
       "      <td>17.8</td>\n",
       "      <td>392.83</td>\n",
       "      <td>4.03</td>\n",
       "      <td>34.7</td>\n",
       "    </tr>\n",
       "    <tr>\n",
       "      <th>3</th>\n",
       "      <td>0.03237</td>\n",
       "      <td>0.0</td>\n",
       "      <td>2.18</td>\n",
       "      <td>0.0</td>\n",
       "      <td>0.458</td>\n",
       "      <td>6.998</td>\n",
       "      <td>45.8</td>\n",
       "      <td>6.0622</td>\n",
       "      <td>3.0</td>\n",
       "      <td>222.0</td>\n",
       "      <td>18.7</td>\n",
       "      <td>394.63</td>\n",
       "      <td>2.94</td>\n",
       "      <td>33.4</td>\n",
       "    </tr>\n",
       "    <tr>\n",
       "      <th>4</th>\n",
       "      <td>0.06905</td>\n",
       "      <td>0.0</td>\n",
       "      <td>2.18</td>\n",
       "      <td>0.0</td>\n",
       "      <td>0.458</td>\n",
       "      <td>7.147</td>\n",
       "      <td>54.2</td>\n",
       "      <td>6.0622</td>\n",
       "      <td>3.0</td>\n",
       "      <td>222.0</td>\n",
       "      <td>18.7</td>\n",
       "      <td>396.90</td>\n",
       "      <td>5.33</td>\n",
       "      <td>36.2</td>\n",
       "    </tr>\n",
       "  </tbody>\n",
       "</table>\n",
       "</div>"
      ],
      "text/plain": [
       "      CRIM    ZN  INDUS  CHAS    NOX     RM   AGE     DIS  RAD    TAX  \\\n",
       "0  0.00632  18.0   2.31   0.0  0.538  6.575  65.2  4.0900  1.0  296.0   \n",
       "1  0.02731   0.0   7.07   0.0  0.469  6.421  78.9  4.9671  2.0  242.0   \n",
       "2  0.02729   0.0   7.07   0.0  0.469  7.185  61.1  4.9671  2.0  242.0   \n",
       "3  0.03237   0.0   2.18   0.0  0.458  6.998  45.8  6.0622  3.0  222.0   \n",
       "4  0.06905   0.0   2.18   0.0  0.458  7.147  54.2  6.0622  3.0  222.0   \n",
       "\n",
       "   PTRATIO       B  LSTAT  PRICE  \n",
       "0     15.3  396.90   4.98   24.0  \n",
       "1     17.8  396.90   9.14   21.6  \n",
       "2     17.8  392.83   4.03   34.7  \n",
       "3     18.7  394.63   2.94   33.4  \n",
       "4     18.7  396.90   5.33   36.2  "
      ]
     },
     "execution_count": 11,
     "metadata": {},
     "output_type": "execute_result"
    }
   ],
   "source": [
    "boston_data['PRICE'] = boston_target\n",
    "boston_data.head()"
   ]
  },
  {
   "cell_type": "code",
   "execution_count": 12,
   "metadata": {},
   "outputs": [
    {
     "name": "stdout",
     "output_type": "stream",
     "text": [
      "<class 'pandas.core.frame.DataFrame'>\n",
      "RangeIndex: 506 entries, 0 to 505\n",
      "Data columns (total 14 columns):\n",
      "CRIM       506 non-null float64\n",
      "ZN         506 non-null float64\n",
      "INDUS      506 non-null float64\n",
      "CHAS       506 non-null float64\n",
      "NOX        506 non-null float64\n",
      "RM         506 non-null float64\n",
      "AGE        506 non-null float64\n",
      "DIS        506 non-null float64\n",
      "RAD        506 non-null float64\n",
      "TAX        506 non-null float64\n",
      "PTRATIO    506 non-null float64\n",
      "B          506 non-null float64\n",
      "LSTAT      506 non-null float64\n",
      "PRICE      506 non-null float64\n",
      "dtypes: float64(14)\n",
      "memory usage: 55.4 KB\n"
     ]
    }
   ],
   "source": [
    "boston_data.info()"
   ]
  },
  {
   "cell_type": "code",
   "execution_count": 13,
   "metadata": {},
   "outputs": [
    {
     "data": {
      "text/html": [
       "<div>\n",
       "<style scoped>\n",
       "    .dataframe tbody tr th:only-of-type {\n",
       "        vertical-align: middle;\n",
       "    }\n",
       "\n",
       "    .dataframe tbody tr th {\n",
       "        vertical-align: top;\n",
       "    }\n",
       "\n",
       "    .dataframe thead th {\n",
       "        text-align: right;\n",
       "    }\n",
       "</style>\n",
       "<table border=\"1\" class=\"dataframe\">\n",
       "  <thead>\n",
       "    <tr style=\"text-align: right;\">\n",
       "      <th></th>\n",
       "      <th>CRIM</th>\n",
       "      <th>ZN</th>\n",
       "      <th>INDUS</th>\n",
       "      <th>CHAS</th>\n",
       "      <th>NOX</th>\n",
       "      <th>RM</th>\n",
       "      <th>AGE</th>\n",
       "      <th>DIS</th>\n",
       "      <th>RAD</th>\n",
       "      <th>TAX</th>\n",
       "      <th>PTRATIO</th>\n",
       "      <th>B</th>\n",
       "      <th>LSTAT</th>\n",
       "      <th>PRICE</th>\n",
       "    </tr>\n",
       "  </thead>\n",
       "  <tbody>\n",
       "    <tr>\n",
       "      <th>count</th>\n",
       "      <td>506.000000</td>\n",
       "      <td>506.000000</td>\n",
       "      <td>506.000000</td>\n",
       "      <td>506.000000</td>\n",
       "      <td>506.000000</td>\n",
       "      <td>506.000000</td>\n",
       "      <td>506.000000</td>\n",
       "      <td>506.000000</td>\n",
       "      <td>506.000000</td>\n",
       "      <td>506.000000</td>\n",
       "      <td>506.000000</td>\n",
       "      <td>506.000000</td>\n",
       "      <td>506.000000</td>\n",
       "      <td>506.000000</td>\n",
       "    </tr>\n",
       "    <tr>\n",
       "      <th>mean</th>\n",
       "      <td>3.613524</td>\n",
       "      <td>11.363636</td>\n",
       "      <td>11.136779</td>\n",
       "      <td>0.069170</td>\n",
       "      <td>0.554695</td>\n",
       "      <td>6.284634</td>\n",
       "      <td>68.574901</td>\n",
       "      <td>3.795043</td>\n",
       "      <td>9.549407</td>\n",
       "      <td>408.237154</td>\n",
       "      <td>18.455534</td>\n",
       "      <td>356.674032</td>\n",
       "      <td>12.653063</td>\n",
       "      <td>22.532806</td>\n",
       "    </tr>\n",
       "    <tr>\n",
       "      <th>std</th>\n",
       "      <td>8.601545</td>\n",
       "      <td>23.322453</td>\n",
       "      <td>6.860353</td>\n",
       "      <td>0.253994</td>\n",
       "      <td>0.115878</td>\n",
       "      <td>0.702617</td>\n",
       "      <td>28.148861</td>\n",
       "      <td>2.105710</td>\n",
       "      <td>8.707259</td>\n",
       "      <td>168.537116</td>\n",
       "      <td>2.164946</td>\n",
       "      <td>91.294864</td>\n",
       "      <td>7.141062</td>\n",
       "      <td>9.197104</td>\n",
       "    </tr>\n",
       "    <tr>\n",
       "      <th>min</th>\n",
       "      <td>0.006320</td>\n",
       "      <td>0.000000</td>\n",
       "      <td>0.460000</td>\n",
       "      <td>0.000000</td>\n",
       "      <td>0.385000</td>\n",
       "      <td>3.561000</td>\n",
       "      <td>2.900000</td>\n",
       "      <td>1.129600</td>\n",
       "      <td>1.000000</td>\n",
       "      <td>187.000000</td>\n",
       "      <td>12.600000</td>\n",
       "      <td>0.320000</td>\n",
       "      <td>1.730000</td>\n",
       "      <td>5.000000</td>\n",
       "    </tr>\n",
       "    <tr>\n",
       "      <th>25%</th>\n",
       "      <td>0.082045</td>\n",
       "      <td>0.000000</td>\n",
       "      <td>5.190000</td>\n",
       "      <td>0.000000</td>\n",
       "      <td>0.449000</td>\n",
       "      <td>5.885500</td>\n",
       "      <td>45.025000</td>\n",
       "      <td>2.100175</td>\n",
       "      <td>4.000000</td>\n",
       "      <td>279.000000</td>\n",
       "      <td>17.400000</td>\n",
       "      <td>375.377500</td>\n",
       "      <td>6.950000</td>\n",
       "      <td>17.025000</td>\n",
       "    </tr>\n",
       "    <tr>\n",
       "      <th>50%</th>\n",
       "      <td>0.256510</td>\n",
       "      <td>0.000000</td>\n",
       "      <td>9.690000</td>\n",
       "      <td>0.000000</td>\n",
       "      <td>0.538000</td>\n",
       "      <td>6.208500</td>\n",
       "      <td>77.500000</td>\n",
       "      <td>3.207450</td>\n",
       "      <td>5.000000</td>\n",
       "      <td>330.000000</td>\n",
       "      <td>19.050000</td>\n",
       "      <td>391.440000</td>\n",
       "      <td>11.360000</td>\n",
       "      <td>21.200000</td>\n",
       "    </tr>\n",
       "    <tr>\n",
       "      <th>75%</th>\n",
       "      <td>3.677083</td>\n",
       "      <td>12.500000</td>\n",
       "      <td>18.100000</td>\n",
       "      <td>0.000000</td>\n",
       "      <td>0.624000</td>\n",
       "      <td>6.623500</td>\n",
       "      <td>94.075000</td>\n",
       "      <td>5.188425</td>\n",
       "      <td>24.000000</td>\n",
       "      <td>666.000000</td>\n",
       "      <td>20.200000</td>\n",
       "      <td>396.225000</td>\n",
       "      <td>16.955000</td>\n",
       "      <td>25.000000</td>\n",
       "    </tr>\n",
       "    <tr>\n",
       "      <th>max</th>\n",
       "      <td>88.976200</td>\n",
       "      <td>100.000000</td>\n",
       "      <td>27.740000</td>\n",
       "      <td>1.000000</td>\n",
       "      <td>0.871000</td>\n",
       "      <td>8.780000</td>\n",
       "      <td>100.000000</td>\n",
       "      <td>12.126500</td>\n",
       "      <td>24.000000</td>\n",
       "      <td>711.000000</td>\n",
       "      <td>22.000000</td>\n",
       "      <td>396.900000</td>\n",
       "      <td>37.970000</td>\n",
       "      <td>50.000000</td>\n",
       "    </tr>\n",
       "  </tbody>\n",
       "</table>\n",
       "</div>"
      ],
      "text/plain": [
       "             CRIM          ZN       INDUS        CHAS         NOX          RM  \\\n",
       "count  506.000000  506.000000  506.000000  506.000000  506.000000  506.000000   \n",
       "mean     3.613524   11.363636   11.136779    0.069170    0.554695    6.284634   \n",
       "std      8.601545   23.322453    6.860353    0.253994    0.115878    0.702617   \n",
       "min      0.006320    0.000000    0.460000    0.000000    0.385000    3.561000   \n",
       "25%      0.082045    0.000000    5.190000    0.000000    0.449000    5.885500   \n",
       "50%      0.256510    0.000000    9.690000    0.000000    0.538000    6.208500   \n",
       "75%      3.677083   12.500000   18.100000    0.000000    0.624000    6.623500   \n",
       "max     88.976200  100.000000   27.740000    1.000000    0.871000    8.780000   \n",
       "\n",
       "              AGE         DIS         RAD         TAX     PTRATIO           B  \\\n",
       "count  506.000000  506.000000  506.000000  506.000000  506.000000  506.000000   \n",
       "mean    68.574901    3.795043    9.549407  408.237154   18.455534  356.674032   \n",
       "std     28.148861    2.105710    8.707259  168.537116    2.164946   91.294864   \n",
       "min      2.900000    1.129600    1.000000  187.000000   12.600000    0.320000   \n",
       "25%     45.025000    2.100175    4.000000  279.000000   17.400000  375.377500   \n",
       "50%     77.500000    3.207450    5.000000  330.000000   19.050000  391.440000   \n",
       "75%     94.075000    5.188425   24.000000  666.000000   20.200000  396.225000   \n",
       "max    100.000000   12.126500   24.000000  711.000000   22.000000  396.900000   \n",
       "\n",
       "            LSTAT       PRICE  \n",
       "count  506.000000  506.000000  \n",
       "mean    12.653063   22.532806  \n",
       "std      7.141062    9.197104  \n",
       "min      1.730000    5.000000  \n",
       "25%      6.950000   17.025000  \n",
       "50%     11.360000   21.200000  \n",
       "75%     16.955000   25.000000  \n",
       "max     37.970000   50.000000  "
      ]
     },
     "execution_count": 13,
     "metadata": {},
     "output_type": "execute_result"
    }
   ],
   "source": [
    "boston_data.describe()"
   ]
  },
  {
   "cell_type": "markdown",
   "metadata": {},
   "source": [
    "<h1><font color='red'>************************************ASSIGNMENT************************************</font></h1>"
   ]
  },
  {
   "cell_type": "markdown",
   "metadata": {},
   "source": [
    "## 3. Creating the Labels and Features "
   ]
  },
  {
   "cell_type": "code",
   "execution_count": 14,
   "metadata": {
    "scrolled": true
   },
   "outputs": [
    {
     "name": "stdout",
     "output_type": "stream",
     "text": [
      "(506, 13)\n",
      "(506,)\n"
     ]
    }
   ],
   "source": [
    "# Creating label and feature data frame : Label- y, Features- X\n",
    "\n",
    "# Labels\n",
    "y = boston_data['PRICE'].values\n",
    "\n",
    "# Dropping price column\n",
    "boston_data.drop(['PRICE'], axis=1, inplace=True)\n",
    "\n",
    "# Features\n",
    "X = boston_data.values\n",
    "\n",
    "print(X.shape)\n",
    "print(y.shape)\n"
   ]
  },
  {
   "cell_type": "markdown",
   "metadata": {},
   "source": [
    "## 4. Splitting data into Train and test"
   ]
  },
  {
   "cell_type": "code",
   "execution_count": 15,
   "metadata": {
    "scrolled": true
   },
   "outputs": [
    {
     "name": "stdout",
     "output_type": "stream",
     "text": [
      "(354, 13)\n",
      "(152, 13)\n",
      "(354,)\n",
      "(152,)\n"
     ]
    }
   ],
   "source": [
    "## train test split\n",
    "from sklearn.model_selection import train_test_split\n",
    "\n",
    "X_train, X_test, Y_train, Y_test = train_test_split(X, y, test_size = 0.3, random_state = 5)\n",
    "\n",
    "## Shape of the matrices\n",
    "\n",
    "print(X_train.shape)\n",
    "print(X_test.shape)\n",
    "print(Y_train.shape)\n",
    "print(Y_test.shape)"
   ]
  },
  {
   "cell_type": "markdown",
   "metadata": {},
   "source": [
    "## 5. Standardizing Numerical features"
   ]
  },
  {
   "cell_type": "code",
   "execution_count": 16,
   "metadata": {
    "scrolled": false
   },
   "outputs": [
    {
     "name": "stdout",
     "output_type": "stream",
     "text": [
      "Data Standardized:\n",
      "\n",
      "\n",
      "Train data : \n",
      "(354, 13)\n",
      "\n",
      " [[ 0.87550928 -0.49961764  1.06960848 -0.2511236   1.64542839  0.23377208\n",
      "   0.96988179 -0.90052238  1.65448584  1.53881318  0.81091271 -3.46382037\n",
      "   1.61136934]\n",
      " [ 0.47466521 -0.49961764  1.06960848 -0.2511236   1.11343548 -0.1497148\n",
      "   0.38315913 -0.92615201  1.65448584  1.53881318  0.81091271 -2.87288804\n",
      "   1.26563608]\n",
      " [ 0.27344444 -0.49961764  1.06960848 -0.2511236  -0.16858021  0.65330096\n",
      "   0.27073324 -0.24199289  1.65448584  1.53881318  0.81091271  0.3899569\n",
      "  -0.67103236]]\n",
      "\n",
      " ========================================================================================================================\n",
      "\n",
      "Test data : \n",
      "(152, 13)\n",
      "\n",
      " [[-0.37258032 -0.49961764 -0.70149647 -0.2511236  -0.41277367  2.51306819\n",
      "   0.67827712 -0.29883872 -0.18332702 -0.58247559 -0.4990232   0.32730729\n",
      "  -1.31893087]\n",
      " [-0.41454735  3.00699239 -0.88753691 -0.2511236  -1.22384483  0.48029936\n",
      "  -1.53862107  0.63274676 -0.64278024 -0.9488263   0.34307845  0.43212703\n",
      "  -1.09827996]\n",
      " [-0.4132507  -0.49961764 -1.11673873 -0.2511236  -0.5435916   0.17322152\n",
      "  -0.03843799 -0.35931091 -0.87250685 -0.80110424 -0.3118895   0.38015758\n",
      "  -0.52065244]]\n"
     ]
    }
   ],
   "source": [
    "# Standardizing the data\n",
    "from sklearn.preprocessing import StandardScaler\n",
    "standardizer = StandardScaler()\n",
    "X_train = standardizer.fit_transform(X_train)\n",
    "X_test = standardizer.transform(X_test)\n",
    "\n",
    "print('Data Standardized:\\n')\n",
    "print('\\nTrain data : ')\n",
    "print(X_train.shape)\n",
    "print('\\n', X_train[:3, :])\n",
    "print('\\n', '='*120)\n",
    "print('\\nTest data : ')\n",
    "print(X_test.shape)\n",
    "print('\\n', X_test[:3, :])\n"
   ]
  },
  {
   "cell_type": "markdown",
   "metadata": {},
   "source": [
    "# ------------------ Implementing Sklearn's Linear Regression ------------------"
   ]
  },
  {
   "cell_type": "code",
   "execution_count": 17,
   "metadata": {
    "scrolled": false
   },
   "outputs": [
    {
     "data": {
      "image/png": "[encoded data removed]",
      "text/plain": [
       "<Figure size 432x288 with 1 Axes>"
      ]
     },
     "metadata": {
      "needs_background": "light"
     },
     "output_type": "display_data"
    }
   ],
   "source": [
    "# code source:https://medium.com/@haydar_ai/learning-data-science-day-9-linear-regression-on-boston-housing-dataset-cd62a80775ef\n",
    "\n",
    "from sklearn.linear_model import LinearRegression\n",
    "import matplotlib.pyplot as plt\n",
    "\n",
    "lm = LinearRegression()\n",
    "lm.fit(X_train, Y_train)\n",
    "\n",
    "Y_pred_lm = lm.predict(X_test)\n",
    "\n",
    "plt.scatter(Y_test, Y_pred_lm)\n",
    "plt.xlabel(\"Actual Prices: $Y_i$\", size = 14)\n",
    "plt.ylabel(\"Predicted prices: $\\hat{Y}_i$\", size = 14)\n",
    "plt.title(\"Actual Prices vs Predicted prices: $Y_i$ vs $\\hat{Y}_i$\", size = 18)\n",
    "plt.show()"
   ]
  },
  {
   "cell_type": "markdown",
   "metadata": {},
   "source": [
    "### Attributes"
   ]
  },
  {
   "cell_type": "code",
   "execution_count": 18,
   "metadata": {},
   "outputs": [
    {
     "name": "stdout",
     "output_type": "stream",
     "text": [
      "The Coefficients are : \n",
      " [-1.27363359  0.94438381 -0.17050408  0.18568703 -1.48334986  2.80195533\n",
      " -0.29987372 -2.72418289  2.77088061 -2.13961719 -2.08896111  1.15085564\n",
      " -3.28764536]\n"
     ]
    }
   ],
   "source": [
    "# Linear regressor cofficients\n",
    "lm_features = lm.coef_\n",
    "print('The Coefficients are : \\n', lm_features)"
   ]
  },
  {
   "cell_type": "code",
   "execution_count": 19,
   "metadata": {},
   "outputs": [
    {
     "name": "stdout",
     "output_type": "stream",
     "text": [
      "The Y_intercept for Linear regressor : \n",
      " 22.556214689265566\n"
     ]
    }
   ],
   "source": [
    "# Linear regressor y_intercept\n",
    "lm_intercept = lm.intercept_\n",
    "print('The Y_intercept for Linear regressor : \\n', lm_intercept)"
   ]
  },
  {
   "cell_type": "markdown",
   "metadata": {},
   "source": [
    "### `Distribution of ΔY (ERRORS)`"
   ]
  },
  {
   "cell_type": "code",
   "execution_count": 20,
   "metadata": {},
   "outputs": [
    {
     "data": {
      "image/png": "[encoded data removed]",
      "text/plain": [
       "<Figure size 432x288 with 1 Axes>"
      ]
     },
     "metadata": {},
     "output_type": "display_data"
    }
   ],
   "source": [
    "import seaborn as sns\n",
    "import numpy as np\n",
    "\n",
    "# Calculating the errors\n",
    "delta_y = Y_test - Y_pred_lm\n",
    "\n",
    "sns.set_style('whitegrid')\n",
    "sns.kdeplot(np.array(delta_y), bw=0.5, label = 'ERROR (ΔY)')\n",
    "plt.xlabel('Errors : ΔY', size = 14)\n",
    "plt.ylabel('Density', size = 14)\n",
    "plt.title('Distribution of the Errors', size = 18)\n",
    "plt.show()"
   ]
  },
  {
   "cell_type": "markdown",
   "metadata": {},
   "source": [
    "### `Distribution of Predicted Values (ŷ)`"
   ]
  },
  {
   "cell_type": "code",
   "execution_count": 21,
   "metadata": {},
   "outputs": [
    {
     "data": {
      "image/png": "[encoded data removed]",
      "text/plain": [
       "<Figure size 432x288 with 1 Axes>"
      ]
     },
     "metadata": {},
     "output_type": "display_data"
    }
   ],
   "source": [
    "sns.set_style('whitegrid')\n",
    "sns.kdeplot(np.array(Y_pred_lm), bw=0.5, label = 'Predicted Values (ŷ)')\n",
    "plt.xlabel('Predicted values : (ŷ)', size = 14)\n",
    "plt.ylabel('Density', size = 14)\n",
    "plt.title('Distribution of the Predicted Values (ŷ)', size = 18)\n",
    "plt.show()"
   ]
  },
  {
   "cell_type": "markdown",
   "metadata": {},
   "source": [
    "### Finding the Errors"
   ]
  },
  {
   "cell_type": "code",
   "execution_count": 22,
   "metadata": {},
   "outputs": [
    {
     "name": "stdout",
     "output_type": "stream",
     "text": [
      "For Linear Regression using SKlearn the accuracy messures are:\n",
      "\n",
      "Mean Absolute Error :  3.557668475650041\n",
      "\n",
      "Mean Squared Error :  30.697037704088565\n",
      "\n",
      "Root Mean Squared Error :  5.540490745781331\n"
     ]
    }
   ],
   "source": [
    "# Calculating accuracy for Linear Regression using SKLEARN\n",
    "from sklearn.metrics import mean_absolute_error, mean_squared_error\n",
    "\n",
    "print(\"For Linear Regression using SKlearn the accuracy messures are:\")\n",
    "\n",
    "# Calculating Mean Absolute Error (MAE)\n",
    "lm_mae = mean_absolute_error(Y_test, Y_pred_lm)\n",
    "print(\"\\nMean Absolute Error : \", lm_mae)\n",
    "\n",
    "# Calculating Mean Squared Error (MSE)\n",
    "lm_mse = mean_squared_error(Y_test, Y_pred_lm)\n",
    "print(\"\\nMean Squared Error : \", lm_mse)\n",
    "\n",
    "# Calculating Root Mean Squared Error (RMSE)\n",
    "lm_rmse = np.sqrt(mean_squared_error(Y_test, Y_pred_lm))\n",
    "print(\"\\nRoot Mean Squared Error : \", lm_rmse)"
   ]
  },
  {
   "cell_type": "code",
   "execution_count": 26,
   "metadata": {},
   "outputs": [
    {
     "data": {
      "text/plain": [
       "(152, 13)"
      ]
     },
     "execution_count": 26,
     "metadata": {},
     "output_type": "execute_result"
    }
   ],
   "source": [
    "X_test.shape"
   ]
  },
  {
   "cell_type": "code",
   "execution_count": null,
   "metadata": {},
   "outputs": [],
   "source": []
  },
  {
   "cell_type": "markdown",
   "metadata": {},
   "source": [
    "# ---------------------- Implementing Sklearn's SGD Regression ----------------------"
   ]
  },
  {
   "cell_type": "code",
   "execution_count": 25,
   "metadata": {
    "scrolled": false
   },
   "outputs": [
    {
     "data": {
      "image/png": "[encoded data removed]",
      "text/plain": [
       "<Figure size 432x288 with 1 Axes>"
      ]
     },
     "metadata": {},
     "output_type": "display_data"
    }
   ],
   "source": [
    "# https://scikit-learn.org/stable/modules/generated/sklearn.linear_model.SGDRegressor.html\n",
    "\n",
    "from sklearn.linear_model import SGDRegressor\n",
    "sgd_sklearn = SGDRegressor(penalty = 'none', learning_rate = 'constant', \n",
    "                           eta0 = 0.001, max_iter = 30000, tol = 1e-3, n_iter_no_change = 10000)\n",
    "\n",
    "sgd_sklearn.fit(X_train, Y_train)\n",
    "\n",
    "sgd_predictions = sgd_sklearn.predict(X_test)\n",
    "\n",
    "plt.scatter(Y_test, sgd_predictions)\n",
    "plt.xlabel(\"Actual Prices: $Y_i$\", size = 14)\n",
    "plt.ylabel(\"Predicted prices: $\\hat{Y}_i$\", size = 14)\n",
    "plt.title(\"Actual Prices vs Predicted Prices: $Y_i$ vs $\\hat{Y}_i$\", size = 16)\n",
    "plt.show()"
   ]
  },
  {
   "cell_type": "markdown",
   "metadata": {},
   "source": [
    "### Attributes"
   ]
  },
  {
   "cell_type": "code",
   "execution_count": 26,
   "metadata": {},
   "outputs": [
    {
     "name": "stdout",
     "output_type": "stream",
     "text": [
      "The Weights for the Sklearn SGDRegressor : \n",
      " [-1.26184683  0.96474076 -0.19886105  0.16772677 -1.51230068  2.81531525\n",
      " -0.30934183 -2.71675278  2.77080453 -2.15386247 -2.09929274  1.16605678\n",
      " -3.29492194]\n"
     ]
    }
   ],
   "source": [
    "# Weights of Sklearn's SGD\n",
    "sgd_weights = sgd_sklearn.coef_\n",
    "\n",
    "print('The Weights for the Sklearn SGDRegressor : \\n', sgd_weights)"
   ]
  },
  {
   "cell_type": "code",
   "execution_count": 27,
   "metadata": {},
   "outputs": [
    {
     "name": "stdout",
     "output_type": "stream",
     "text": [
      "Y_intercept for the Sklearn SGDRegressor : \n",
      " [22.56812612]\n"
     ]
    }
   ],
   "source": [
    "# Intercept of Sklearn's SGD\n",
    "sgd_intercept = sgd_sklearn.intercept_\n",
    "print('Y_intercept for the Sklearn SGDRegressor : \\n', sgd_intercept)"
   ]
  },
  {
   "cell_type": "code",
   "execution_count": 28,
   "metadata": {},
   "outputs": [
    {
     "name": "stdout",
     "output_type": "stream",
     "text": [
      "Number of iterations performed for stopping criterion (convergence) : \n",
      " 27141\n"
     ]
    }
   ],
   "source": [
    "# Number of iterations performed to reach the stopping criterion\n",
    "sgd_iterations = sgd_sklearn.n_iter_\n",
    "print('Number of iterations performed for stopping criterion (convergence) : \\n', sgd_iterations)"
   ]
  },
  {
   "cell_type": "markdown",
   "metadata": {},
   "source": [
    "### `Distribution of ΔY (ERRORS)`"
   ]
  },
  {
   "cell_type": "code",
   "execution_count": 29,
   "metadata": {},
   "outputs": [
    {
     "data": {
      "image/png": "[encoded data removed]",
      "text/plain": [
       "<Figure size 432x288 with 1 Axes>"
      ]
     },
     "metadata": {},
     "output_type": "display_data"
    }
   ],
   "source": [
    "import seaborn as sns\n",
    "import numpy as np\n",
    "\n",
    "# Calculating the errors\n",
    "sgd_delta_y = Y_test - sgd_predictions\n",
    "\n",
    "sns.set_style('whitegrid')\n",
    "sns.kdeplot(np.array(sgd_delta_y), bw=0.5, label = 'ERROR (ΔY)')\n",
    "plt.xlabel('Errors : ΔY', size = 14)\n",
    "plt.ylabel('Density', size = 14)\n",
    "plt.title('Distribution of the Errors', size = 18)\n",
    "plt.show()"
   ]
  },
  {
   "cell_type": "markdown",
   "metadata": {},
   "source": [
    "### `Distribution of Predicted Values (ŷ)`"
   ]
  },
  {
   "cell_type": "code",
   "execution_count": 30,
   "metadata": {},
   "outputs": [
    {
     "data": {
      "image/png": "[encoded data removed]",
      "text/plain": [
       "<Figure size 432x288 with 1 Axes>"
      ]
     },
     "metadata": {},
     "output_type": "display_data"
    }
   ],
   "source": [
    "sns.set_style('whitegrid')\n",
    "sns.kdeplot(np.array(sgd_predictions), bw=0.5, label = 'Predicted Values (ŷ)')\n",
    "plt.xlabel('Predicted values : (ŷ)', size = 14)\n",
    "plt.ylabel('Density', size = 14)\n",
    "plt.title('Distribution of the Predicted Values (ŷ)', size = 18)\n",
    "plt.show()"
   ]
  },
  {
   "cell_type": "markdown",
   "metadata": {},
   "source": [
    "### Finding the Errors"
   ]
  },
  {
   "cell_type": "code",
   "execution_count": 31,
   "metadata": {},
   "outputs": [
    {
     "name": "stdout",
     "output_type": "stream",
     "text": [
      "For Linear Regression using SKlearn the accuracy messures are:\n",
      "\n",
      "Mean Absolute Error :  3.56779771513776\n",
      "\n",
      "Mean Squared Error :  30.95808550817274\n",
      "\n",
      "Root Mean Squared Error :  5.56399905716857\n"
     ]
    }
   ],
   "source": [
    "# Calculating accuracy for SGDRegressor using SKLEARN\n",
    "from sklearn.metrics import mean_absolute_error, mean_squared_error\n",
    "\n",
    "print(\"For Linear Regression using SKlearn the accuracy messures are:\")\n",
    "\n",
    "# Calculating Mean Absolute Error (MAE)\n",
    "sgd_mae = mean_absolute_error(Y_test, sgd_predictions)\n",
    "print(\"\\nMean Absolute Error : \", sgd_mae)\n",
    "\n",
    "# Calculating Mean Squared Error (MSE)\n",
    "sgd_mse = mean_squared_error(Y_test, sgd_predictions)\n",
    "print(\"\\nMean Squared Error : \", sgd_mse)\n",
    "\n",
    "# Calculating Root Mean Squared Error (RMSE)\n",
    "sgd_rmse = np.sqrt(mean_squared_error(Y_test, sgd_predictions))\n",
    "print(\"\\nRoot Mean Squared Error : \", sgd_rmse)"
   ]
  },
  {
   "cell_type": "markdown",
   "metadata": {},
   "source": [
    "# ---------------------- Implementing Custom SGD Regression ----------------------"
   ]
  },
  {
   "cell_type": "markdown",
   "metadata": {},
   "source": [
    "### Making the SGDRegressor function"
   ]
  },
  {
   "cell_type": "code",
   "execution_count": 32,
   "metadata": {},
   "outputs": [],
   "source": [
    "# Reference : https://scikit-learn.org/stable/modules/generated/sklearn.linear_model.SGDRegressor.html\n",
    "# Reference : https://machinelearningmastery.com/implement-linear-regression-stochastic-gradient-descent-scratch-python/\n",
    "# https://github.com/anshuak100/Implement-SGD-to-Linear-Regression-on-Boston-house-prices-dataset/blob/master/sgd_imp_final.ipynb\n",
    "\n",
    "# Making our own SGD Regression function\n",
    "# This function is a simple implementation of SGD for linear regression without any regularization\n",
    "# Required parameters are : \n",
    "    # Features data (X)\n",
    "    # Target values (y)\n",
    "    # Learning rate (learning_rate)\n",
    "    # Number of iteration (n_iter)\n",
    "\n",
    "def custom_SGDRegressor(X, y, learning_rate = 0.001, n_iter = 1000):\n",
    "    \n",
    "    \"\"\"\n",
    "    - This is a custom implementation of SGD Regression.\n",
    "    \n",
    "    - To find the weight vector : [partial differentiation wrt w] \n",
    "                                   dl/dw = 1/k*(-2x)*(y-wTx-b)\n",
    "    \n",
    "    - To find the intercept :     [partial differentiation wrt b] \n",
    "                                   dl/db = 1/k*(-2)*(y-wTx-b)\n",
    "                                 \n",
    "    - Learning rate is constant.\n",
    "    - The function returns weights (w) and intercept (b)\n",
    "    - The Default batch size is 100 (taking  K = 100)\n",
    "    \n",
    "    \"\"\"\n",
    "    \n",
    "    weight_current = np.zeros(shape=(1, X.shape[1]))\n",
    "    b_current = 0\n",
    "    current_iter = 1\n",
    "    k = 100\n",
    "    r = learning_rate\n",
    "    \n",
    "    while(current_iter <= n_iter):\n",
    "        \n",
    "        weight_old = weight_current\n",
    "        b_old = b_current\n",
    "        \n",
    "        w_temp = np.zeros(shape=(1, X.shape[1]))\n",
    "        b_temp = 0\n",
    "        \n",
    "        # Converting into numpy array\n",
    "        x = np.array(X)\n",
    "        y = np.array(y)\n",
    "        \n",
    "        # Getting the derivatives using sgd with K=50\n",
    "        for i in range(k):\n",
    "            \n",
    "            w_temp += x[i] * (y[i] - (np.dot(weight_old, x[i]) + b_old)) * (-2/k)\n",
    "            b_temp += (y[i] - (np.dot(weight_old, x[i]) + b_old)) * (-2/k)\n",
    "            \n",
    "        # Updating the weights and intercept\n",
    "        weight_current = weight_old - (r * w_temp)\n",
    "        b_current = b_old - (r * b_temp)\n",
    "        \n",
    "        if(weight_old == weight_current).all():\n",
    "            break\n",
    "        \n",
    "        # Changing the learning rate\n",
    "        #r /= 2\n",
    "        \n",
    "        current_iter += 1\n",
    "        \n",
    "    return weight_current, b_current\n",
    "    "
   ]
  },
  {
   "cell_type": "markdown",
   "metadata": {},
   "source": [
    "### Making the predict function"
   ]
  },
  {
   "cell_type": "code",
   "execution_count": 33,
   "metadata": {},
   "outputs": [],
   "source": [
    "def custom_predict(x, w, b):\n",
    "    \n",
    "    \"\"\"\n",
    "    This function predicts the target values\n",
    "    \"\"\"\n",
    "    y_pred=[]\n",
    "    \n",
    "    for i in range(len(x)):\n",
    "        y=np.asscalar(np.dot(w, x[i])+b)\n",
    "        y_pred.append(y)\n",
    "        \n",
    "    return np.array(y_pred)"
   ]
  },
  {
   "cell_type": "markdown",
   "metadata": {},
   "source": [
    "### Using the custom_SGDRegressor function"
   ]
  },
  {
   "cell_type": "code",
   "execution_count": 34,
   "metadata": {},
   "outputs": [
    {
     "data": {
      "image/png": "[encoded data removed]",
      "text/plain": [
       "<Figure size 432x288 with 1 Axes>"
      ]
     },
     "metadata": {},
     "output_type": "display_data"
    },
    {
     "name": "stdout",
     "output_type": "stream",
     "text": [
      "Wall time: 33.6 s\n"
     ]
    }
   ],
   "source": [
    "%%time\n",
    "# Function call custom_SGDRegressor\n",
    "w, b = custom_SGDRegressor(X_train, Y_train, learning_rate = 0.001, n_iter = 10000)\n",
    "\n",
    "# Function call custom_predict\n",
    "custom_y_pred = custom_predict(X_test, w, b)\n",
    "\n",
    "# Plotting the graph\n",
    "plt.scatter(Y_test, custom_y_pred)\n",
    "plt.xlabel(\"Actual Prices: $Y_i$\", size = 14)\n",
    "plt.ylabel(\"Predicted prices: $\\hat{Y}_i$\", size = 14)\n",
    "plt.title(\"Actual Prices vs Predicted Prices: $Y_i$ vs $\\hat{Y}_i$\", size = 16)\n",
    "plt.show()"
   ]
  },
  {
   "cell_type": "markdown",
   "metadata": {},
   "source": [
    "### Attributes"
   ]
  },
  {
   "cell_type": "code",
   "execution_count": 35,
   "metadata": {
    "scrolled": true
   },
   "outputs": [
    {
     "name": "stdout",
     "output_type": "stream",
     "text": [
      "The Weights for the Sklearn SGDRegressor : \n",
      " [[-1.21915874  1.35169579  0.10109467  0.40071872 -1.02312038  1.81922292\n",
      "   0.90313939 -2.61325675  2.1669508  -1.73369138 -1.98674643  1.07587925\n",
      "  -5.38548089]]\n"
     ]
    }
   ],
   "source": [
    "# Weights of custom_SGDRegressor's SGD\n",
    "\n",
    "print('The Weights for the Sklearn SGDRegressor : \\n', w)"
   ]
  },
  {
   "cell_type": "code",
   "execution_count": 36,
   "metadata": {},
   "outputs": [
    {
     "name": "stdout",
     "output_type": "stream",
     "text": [
      "Y_intercept for the Sklearn SGDRegressor : \n",
      " [21.93212945]\n"
     ]
    }
   ],
   "source": [
    "# Intercept of Sklearn's SGD\n",
    "\n",
    "print('Y_intercept for the Sklearn SGDRegressor : \\n', b)"
   ]
  },
  {
   "cell_type": "markdown",
   "metadata": {},
   "source": [
    "### `Distribution of ΔY (ERRORS)`"
   ]
  },
  {
   "cell_type": "code",
   "execution_count": 37,
   "metadata": {},
   "outputs": [
    {
     "data": {
      "image/png": "[encoded data removed]",
      "text/plain": [
       "<Figure size 432x288 with 1 Axes>"
      ]
     },
     "metadata": {},
     "output_type": "display_data"
    }
   ],
   "source": [
    "import seaborn as sns\n",
    "import numpy as np\n",
    "\n",
    "# Calculating the errors\n",
    "custom_delta_y = Y_test - custom_y_pred\n",
    "\n",
    "sns.set_style('whitegrid')\n",
    "sns.kdeplot(np.array(custom_delta_y), bw=0.5, label = 'ERROR (ΔY)')\n",
    "plt.xlabel('Errors : ΔY', size = 14)\n",
    "plt.ylabel('Density', size = 14)\n",
    "plt.title('Distribution of the Errors', size = 18)\n",
    "plt.show()"
   ]
  },
  {
   "cell_type": "markdown",
   "metadata": {},
   "source": [
    "### `Distribution of Predicted Values (ŷ)`"
   ]
  },
  {
   "cell_type": "code",
   "execution_count": 38,
   "metadata": {},
   "outputs": [
    {
     "data": {
      "image/png": "[encoded data removed]",
      "text/plain": [
       "<Figure size 432x288 with 1 Axes>"
      ]
     },
     "metadata": {},
     "output_type": "display_data"
    }
   ],
   "source": [
    "sns.set_style('whitegrid')\n",
    "sns.kdeplot(np.array(custom_y_pred), bw=0.5, label = 'Predicted Values (ŷ)')\n",
    "plt.xlabel('Predicted values : (ŷ)', size = 14)\n",
    "plt.ylabel('Density', size = 14)\n",
    "plt.title('Distribution of the Predicted Values (ŷ)', size = 18)\n",
    "plt.show()"
   ]
  },
  {
   "cell_type": "markdown",
   "metadata": {},
   "source": [
    "### Finding the ERRORS"
   ]
  },
  {
   "cell_type": "code",
   "execution_count": 39,
   "metadata": {},
   "outputs": [
    {
     "name": "stdout",
     "output_type": "stream",
     "text": [
      "For Linear Regression using SKlearn the accuracy messures are:\n",
      "\n",
      "Mean Absolute Error :  3.6835360700102426\n",
      "\n",
      "Mean Squared Error :  30.58470057553007\n",
      "\n",
      "Root Mean Squared Error :  5.530343621831293\n"
     ]
    }
   ],
   "source": [
    "# Calculating accuracy for custom_SGDRegressor\n",
    "\n",
    "from sklearn.metrics import mean_absolute_error, mean_squared_error\n",
    "\n",
    "print(\"For Linear Regression using SKlearn the accuracy messures are:\")\n",
    "\n",
    "# Calculating Mean Absolute Error (MAE)\n",
    "custom_sgd_mae = mean_absolute_error(Y_test, custom_y_pred)\n",
    "print(\"\\nMean Absolute Error : \", custom_sgd_mae)\n",
    "\n",
    "# Calculating Mean Squared Error (MSE)\n",
    "custom_sgd_mse = mean_squared_error(Y_test, custom_y_pred)\n",
    "print(\"\\nMean Squared Error : \", custom_sgd_mse)\n",
    "\n",
    "# Calculating Root Mean Squared Error (RMSE)\n",
    "custom_sgd_rmse = np.sqrt(mean_squared_error(Y_test, custom_y_pred))\n",
    "print(\"\\nRoot Mean Squared Error : \", custom_sgd_rmse)"
   ]
  },
  {
   "cell_type": "markdown",
   "metadata": {},
   "source": [
    "#      ------------------------------- MAKING OBSERVATIONS -------------------------------"
   ]
  },
  {
   "cell_type": "markdown",
   "metadata": {},
   "source": [
    "## Comparing the weights produced by both Custom SGD and Sklearn's SGD"
   ]
  },
  {
   "cell_type": "code",
   "execution_count": 40,
   "metadata": {
    "scrolled": true
   },
   "outputs": [
    {
     "name": "stdout",
     "output_type": "stream",
     "text": [
      "+-----------------------+--------------------------+\n",
      "| Weights of Custom SGD | Weights of Sklearn's SGD |\n",
      "+-----------------------+--------------------------+\n",
      "|  -1.2191587376635329  |    -1.261846831849137    |\n",
      "|   1.3516957927362003  |    0.9647407602727651    |\n",
      "|  0.10109467269827319  |   -0.19886105180285363   |\n",
      "|  0.40071871598554387  |   0.16772676832602343    |\n",
      "|  -1.0231203794016348  |   -1.5123006828939547    |\n",
      "|   1.8192229228474155  |    2.815315251516159     |\n",
      "|   0.9031393878237518  |   -0.30934182644689534   |\n",
      "|   -2.613256753592579  |   -2.7167527776570233    |\n",
      "|   2.1669508015718177  |    2.7708045266311676    |\n",
      "|  -1.7336913789229846  |   -2.1538624709275678    |\n",
      "|  -1.9867464305204734  |   -2.0992927440696416    |\n",
      "|   1.0758792504472465  |    1.1660567799304538    |\n",
      "|   -5.385480893725979  |   -3.2949219413044424    |\n",
      "+-----------------------+--------------------------+\n"
     ]
    }
   ],
   "source": [
    "#http://zetcode.com/python/prettytable/\n",
    "# Creating the table using PrettyTable library\n",
    "from prettytable import PrettyTable\n",
    "\n",
    "# Initializing prettytable\n",
    "x = PrettyTable()\n",
    "\n",
    "# Serial numbers\n",
    "sl_num = [1,2,3,4,5,6,7,8,9,10,11,12,13]\n",
    "\n",
    "# Adding rows\n",
    "x.field_names = [\"Weights of Custom SGD\", \"Weights of Sklearn's SGD\"]\n",
    "for i in range(13):\n",
    "    x.add_row([w[0][i], sgd_weights[i]])\n",
    "\n",
    "# Printing the Table\n",
    "print(x)"
   ]
  },
  {
   "cell_type": "markdown",
   "metadata": {},
   "source": [
    "## Comparing the parameters of both the custom SGD and the Sklearn's SGD"
   ]
  },
  {
   "cell_type": "code",
   "execution_count": 41,
   "metadata": {},
   "outputs": [
    {
     "name": "stdout",
     "output_type": "stream",
     "text": [
      "+------------------------+---------------------+------------------------+------------------------------+\n",
      "|  Regressor(Algorithm)  | Learning rate(type) | Learning rate(r value) | Number of iterations(n_iter) |\n",
      "+------------------------+---------------------+------------------------+------------------------------+\n",
      "|  custom_SGDRegressor   |       Constant      |         0.001          |            10000             |\n",
      "| Sklearn's SGDRegressor |       Constant      |         0.001          |            10000             |\n",
      "+------------------------+---------------------+------------------------+------------------------------+\n"
     ]
    }
   ],
   "source": [
    "#http://zetcode.com/python/prettytable/\n",
    "# Creating the table using PrettyTable library\n",
    "from prettytable import PrettyTable\n",
    "\n",
    "# Initializing prettytable\n",
    "x = PrettyTable()\n",
    "\n",
    "# Adding rows\n",
    "x.field_names = [\"Regressor(Algorithm)\", \"Learning rate(type)\", \"Learning rate(r value)\", \"Number of iterations(n_iter)\"]\n",
    "x.add_row([\"custom_SGDRegressor\", \"Constant\", 0.001, 10000])\n",
    "x.add_row([\"Sklearn's SGDRegressor\", \"Constant\", 0.001, 10000])\n",
    "\n",
    "# Printing the Table\n",
    "print(x)"
   ]
  },
  {
   "cell_type": "markdown",
   "metadata": {},
   "source": [
    "## Comparing the Errors produced by Custom SGD , Sklearn's SGD and Linear Regression"
   ]
  },
  {
   "cell_type": "code",
   "execution_count": 42,
   "metadata": {},
   "outputs": [
    {
     "name": "stdout",
     "output_type": "stream",
     "text": [
      "+----------------------------+---------------------+--------------------+-------------------------+--------------------+\n",
      "|    Regressor(Algorithm)    | Mean Absolute Error | Mean Squared Error | Root Mean Squared Error |    Y_intercept     |\n",
      "+----------------------------+---------------------+--------------------+-------------------------+--------------------+\n",
      "|    custom_SGDRegressor     |  3.6835360700102426 | 30.58470057553007  |    5.530343621831293    |   [21.93212945]    |\n",
      "|   Sklearn's SGDRegressor   |   3.56779771513776  | 30.95808550817274  |     5.56399905716857    |   [22.56812612]    |\n",
      "| Sklearn's LinearRegression |  3.557668475650041  | 30.697037704088565 |    5.540490745781331    | 22.556214689265566 |\n",
      "+----------------------------+---------------------+--------------------+-------------------------+--------------------+\n"
     ]
    }
   ],
   "source": [
    "#http://zetcode.com/python/prettytable/\n",
    "# Creating the table using PrettyTable library\n",
    "from prettytable import PrettyTable\n",
    "\n",
    "# Initializing prettytable\n",
    "x = PrettyTable()\n",
    "\n",
    "# Adding rows\n",
    "x.field_names = [\"Regressor(Algorithm)\", \"Mean Absolute Error\", \"Mean Squared Error\", \"Root Mean Squared Error\", \"Y_intercept\"]\n",
    "x.add_row([\"custom_SGDRegressor\", custom_sgd_mae, custom_sgd_mse, custom_sgd_rmse, b])\n",
    "x.add_row([\"Sklearn's SGDRegressor\", sgd_mae, sgd_mse, sgd_rmse, sgd_intercept])\n",
    "x.add_row([\"Sklearn's LinearRegression\", lm_mae, lm_mse, lm_rmse, lm_intercept])\n",
    "\n",
    "# Printing the Table\n",
    "print(x)"
   ]
  },
  {
   "cell_type": "markdown",
   "metadata": {},
   "source": [
    "## Comparing graphically"
   ]
  },
  {
   "cell_type": "markdown",
   "metadata": {},
   "source": [
    "### `Distribution of ΔY [custom_SGDRegressor vs Sklearn's SGDRegressor]`"
   ]
  },
  {
   "cell_type": "code",
   "execution_count": 43,
   "metadata": {},
   "outputs": [
    {
     "data": {
      "image/png": "[encoded data removed]",
      "text/plain": [
       "<Figure size 432x288 with 1 Axes>"
      ]
     },
     "metadata": {},
     "output_type": "display_data"
    }
   ],
   "source": [
    "# Combining the plots and comapring the errors\n",
    "\n",
    "sns.set_style('whitegrid')\n",
    "sns.kdeplot(np.array(custom_delta_y), bw=0.5, label = 'Custom SGD ERROR (ΔY)')\n",
    "sns.kdeplot(np.array(sgd_delta_y), bw=0.5, label = 'Sklearn SGD ERROR (ΔY)')\n",
    "plt.xlabel('Errors : ΔY', size = 14)\n",
    "plt.ylabel('Density', size = 14)\n",
    "plt.title('Distribution of the Errors', size = 18)\n",
    "plt.show()"
   ]
  },
  {
   "cell_type": "markdown",
   "metadata": {},
   "source": [
    "### `Distribution of Predicted Values (ŷ) [custom_SGDRegressor vs Sklearn's SGDRegressor]`"
   ]
  },
  {
   "cell_type": "code",
   "execution_count": 44,
   "metadata": {
    "scrolled": true
   },
   "outputs": [
    {
     "data": {
      "image/png": "[encoded data removed]",
      "text/plain": [
       "<Figure size 432x288 with 1 Axes>"
      ]
     },
     "metadata": {},
     "output_type": "display_data"
    }
   ],
   "source": [
    "sns.set_style('whitegrid')\n",
    "sns.kdeplot(np.array(custom_y_pred), bw=0.5, label = 'Custom SGD Predicted Values (ŷ)')\n",
    "sns.kdeplot(np.array(sgd_predictions), bw=0.5, label = 'Sklearn SGD Predicted Values (ŷ)')\n",
    "plt.xlabel('Predicted values : (ŷ)', size = 14)\n",
    "plt.ylabel('Density', size = 14)\n",
    "plt.title('Distribution of the Predicted Values (ŷ)', size = 18)\n",
    "plt.show()"
   ]
  },
  {
   "cell_type": "markdown",
   "metadata": {},
   "source": [
    "## Pseudocode (custom_SGDRegressor):\n",
    "\n",
    "[1] Initialize number of iterations (current_iter), batch size (k), \n",
    "    intercept value (b), learning_rate (r) and weight vector (w).\n",
    "    \n",
    "[2] While current iteration is less than total no. of iteration .\n",
    "\n",
    "[3] For all items in batch (k value).\n",
    "\n",
    "[4] Calculate weighted vector and intercept value.\n",
    "\n",
    "[5] Update weighted vector and intercept values by reducing from old values .\n",
    "\n",
    "[6] Update iteration number.\n",
    "\n",
    "[7] Repeate the above 6 steps until (current iteration > total iteration) \n",
    "    or (weight vectors of two sucessive iterations are same)\n",
    "\n",
    "[7] Return the optimal W and B (weight vector and intercept)"
   ]
  },
  {
   "cell_type": "markdown",
   "metadata": {},
   "source": [
    "## CONCLUSION"
   ]
  },
  {
   "cell_type": "markdown",
   "metadata": {},
   "source": [
    "## NOTE:\n",
    "1. As we can see that the \"custom_SGDRegressor\" and the Sklearn's SGDRegressor both have the same MSE(mean squared error).\n",
    "2. After looking at the error graph we can say that in the -ve side of the graph, the error is more.\n",
    "3. By looking at the distribution of predicted value graph, It is clear that prediction of implemented SGD and sklearn SGD both are ovelapping (not perfectly) but they perform near about close to each other.\n",
    "4. Sklearn's SGD makes more number of Errors compared to custom SGD.\n",
    "5. We can tune the custom SGD by changing the parameter values and can improve it's performance by:\n",
    "    - Changing the batch size\n",
    "    - Changing the number of iterations\n",
    "    - Changing the learning rate\n",
    "    - Featurizing the data\n",
    "6. Both the models are not PERFECT but they are OKAY to be used.\n",
    "7. We have kept the learning rate as `CONSTANT` but if we change it to `INVERSESCALING` our results may varry."
   ]
  },
  {
   "cell_type": "markdown",
   "metadata": {},
   "source": [
    "## Procedure:\n",
    "\n",
    "### To predict the price of a given point from the data we can follow the following steps:\n",
    "\n",
    "#### IMPORTANT NOTE:\n",
    "\n",
    "    - As the custom_SGD takes 4 parameters:\n",
    "        1. X - Features\n",
    "        2. Y - Target Value (Actual value of the target variable)\n",
    "        3. Learning rate (r value)\n",
    "        4. Number of iterations for convergence i.e. (stop when current iteration > total iteration or weight vectors of two\n",
    "           sucessive iterations are same)\n",
    "    \n",
    "    - We need to train the model using the training data (X_train and Y-Train) and obtain \n",
    "      the weights and intercepts (W and B)\n",
    "    \n",
    "    - Using those weights and intercepts we can use the below formula to calculate the Y_hat(predicted) Values\n",
    "\n",
    "    - NOTE:\n",
    "    \n",
    "    The formula used for predicting the new data points is : [Y = M*X + C]\n",
    "    - where: \n",
    "        Y is the predicted value, \n",
    "        M is the weight vector returned by the custom_SGDRegressor, \n",
    "        C is the y-intercept "
   ]
  },
  {
   "cell_type": "markdown",
   "metadata": {},
   "source": [
    "###   After fitting the training data we will obtain the test results by predicting through the following steps:\n",
    "    \n",
    "    = [STEP 1] - Using the same weights and intercept value (w and b) returned by the custom_SGDRegressor, \n",
    "                 we will use the \"custom_predict\" method to find the predicted prices by passing the X_test, w and b\n",
    "                 as the parameters of the \"custom_predict\" function.\n",
    "                 \n",
    "    = [STEP 2] - The predicted prices thus obtained are then used for comparing with the actual values of the house.\n",
    "    \n",
    "    = [STEP 3] - We can plot a graph if there are more number of predicted values or else we can simply print the y_pred \n",
    "                 values and the y_test values and compare them using the error metric (MEAN SQUARED ERROR VALES).\n",
    "                 \n",
    "    = [STEP 4] - Find the errors made by the regressor by finding the Mean squared error between \n",
    "                 actual and predicted prices.\n",
    "    \n",
    "    = [STEP 5] - Try to reduce the error by adjusting the `learning_rate` and `number_of_iterations` \n",
    "                 to find the convergence.\n",
    "    \n",
    "    = [STEP 6] - When the error doesn't decreases further we can say that we have reached the stage where our model is able \n",
    "                 to predict the prices with minimum error."
   ]
  },
  {
   "cell_type": "code",
   "execution_count": null,
   "metadata": {},
   "outputs": [],
   "source": []
  }
 ],
 "metadata": {
  "kernelspec": {
   "display_name": "Python 3",
   "language": "python",
   "name": "python3"
  },
  "language_info": {
   "codemirror_mode": {
    "name": "ipython",
    "version": 3
   },
   "file_extension": ".py",
   "mimetype": "text/x-python",
   "name": "python",
   "nbconvert_exporter": "python",
   "pygments_lexer": "ipython3",
   "version": "3.7.3"
  }
 },
 "nbformat": 4,
 "nbformat_minor": 2
}
